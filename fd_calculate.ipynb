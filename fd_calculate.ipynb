{
 "cells": [
  {
   "cell_type": "markdown",
   "metadata": {},
   "source": [
    "# Fractal Analysis Of Blood Cancer Tissues Slides"
   ]
  },
  {
   "cell_type": "markdown",
   "metadata": {},
   "source": [
    "## Importing Dependencies"
   ]
  },
  {
   "cell_type": "code",
   "execution_count": 1,
   "metadata": {},
   "outputs": [],
   "source": [
    "import numpy as np\n",
    "import imageio\n",
    "import matplotlib.pyplot as plt\n",
    "import matplotlib.image as mpimg\n",
    "import cv2\n",
    "from matplotlib import pyplot as plt\n",
    "from playsound import playsound"
   ]
  },
  {
   "cell_type": "markdown",
   "metadata": {},
   "source": [
    "## RGB to GrayScale Conversion "
   ]
  },
  {
   "cell_type": "code",
   "execution_count": 2,
   "metadata": {},
   "outputs": [],
   "source": [
    "def rgb2gray(img):\n",
    "    r, g, b = img[:,:,0], img[:,:,1], img[:,:,2]\n",
    "    grayscale = 0.2989 * r + 0.5870 * g + 0.1140 * b\n",
    "    return grayscale"
   ]
  },
  {
   "cell_type": "markdown",
   "metadata": {},
   "source": [
    "## Box Counting Function "
   ]
  },
  {
   "cell_type": "code",
   "execution_count": 3,
   "metadata": {},
   "outputs": [],
   "source": [
    "def boxcount(img, k):\n",
    "        S = np.add.reduceat(np.add.reduceat(img, np.arange(0, img.shape[0], k), axis=0),np.arange(0, img.shape[1], k), axis=1)\n",
    "\n",
    "        # We count non-empty (0) and non-full boxes (k*k)\n",
    "        return len(np.where((S > 0) & (S < k*k))[0])"
   ]
  },
  {
   "cell_type": "markdown",
   "metadata": {},
   "source": [
    "## Fractal Dimension Calculating Function"
   ]
  },
  {
   "cell_type": "code",
   "execution_count": 4,
   "metadata": {},
   "outputs": [],
   "source": [
    "def fractal_dimension(img, threshold):\n",
    "    # Only for 2d image\n",
    "    #checking the condition of image shape \n",
    "    assert(len(img.shape) == 2)\n",
    "    \n",
    "\n",
    "    # Transform img into a binary array\n",
    "    binaryimg = (img < threshold)\n",
    "\n",
    "    # Minimal dimension of image\n",
    "\n",
    "    p = min(binaryimg.shape)\n",
    "\n",
    "\n",
    "    # Greatest power of 2 less than or equal to p\n",
    "    n = 2**np.floor(np.log(p)/np.log(2))\n",
    "\n",
    "    # Extract the exponent\n",
    "    n = int(np.log(n)/np.log(2))\n",
    "\n",
    "    # Build successive box sizes (from 2**n down to 2**1)\n",
    "    sizes = 2**np.arange(n, 1, -1)\n",
    "\n",
    "    # Actual box counting with decreasing size\n",
    "    counts = []\n",
    "    for size in sizes:\n",
    "        counts.append(boxcount(binaryimg, size))\n",
    "    \n",
    "    # Fit the successive log(sizes) with log (counts)\n",
    "    coeffs = np.polyfit(np.log(sizes), np.log(counts), 1)\n",
    "    return -coeffs[0]\n",
    "    "
   ]
  },
  {
   "cell_type": "markdown",
   "metadata": {},
   "source": [
    "## Main Code - Testing on multiple Images "
   ]
  },
  {
   "cell_type": "code",
   "execution_count": 14,
   "metadata": {},
   "outputs": [
    {
     "name": "stderr",
     "output_type": "stream",
     "text": [
      "/var/folders/2f/m0xfb_6j03vcc8xdz8hp1d100000gn/T/ipykernel_17444/1388005986.py:14: DeprecationWarning: Starting with ImageIO v3 the behavior of this function will switch to that of iio.v3.imread. To keep the current behavior (and make this warning dissapear) use `import imageio.v2 as imageio` or call `imageio.v2.imread` directly.\n",
      "  img = imageio.imread(input_string)\n"
     ]
    },
    {
     "name": "stdout",
     "output_type": "stream",
     "text": [
      "1 th =>  0.5742455345242383   0.7609701036951602   0.4625185434620171\n",
      "2 th =>  0.5636983804428678   0.8269118231816934   0.44987494004973255\n",
      "3 th =>  0.6000177711558493   0.9240137272513936   0.4754291883332302\n"
     ]
    }
   ],
   "source": [
    "i = 1\n",
    "mn_md_counter = 0\n",
    "number_img = 3\n",
    "epochs = 200\n",
    "\n",
    "# figure, axis = plt.subplots(number_img)\n",
    "\n",
    "# defining array containg median and means values of imgs\n",
    "mean_array_maliearly = [0]*number_img\n",
    "sd_array=[0]*number_img\n",
    "median_array_maliearly = [0]*number_img\n",
    "while i != number_img+1 : \n",
    "      input_string = \"/Users/anujpatel/Documents/datasets/brain tumour/brain_tumor_mri/new_dataset/bt_images/samples/bloodcancer/MalignantProB/malignant\"+str(i)+\".jpg\"\n",
    "      img = imageio.imread(input_string)\n",
    "      img = rgb2gray(img)\n",
    "\n",
    "      #counters and arrays\n",
    "      j=1\n",
    "      array = [0]*epochs\n",
    "      index = 0\n",
    "\n",
    "      for j in range(76,200) :\n",
    "        fd = fractal_dimension(img,j)\n",
    "        array[index]=fd\n",
    "        index = j\n",
    "\n",
    "\n",
    "\n",
    "      mean = np.mean(array)\n",
    "      median = np.median(array)\n",
    "      sd = np.std(array)\n",
    "      print(i,\"th => \",mean,\" \",median,\" \",sd)\n",
    "\n",
    "      # storing median and mean in PLOT_ARRAY\n",
    "      if mn_md_counter != number_img:\n",
    "        mean_array_maliearly[mn_md_counter]=mean\n",
    "        median_array_maliearly[mn_md_counter]=median\n",
    "        sd_array[mn_md_counter]=sd\n",
    "        mn_md_counter+=1\n",
    "      i+=1\n",
    "      #playing beep for counting\n",
    "      playsound('/Users/anujpatel/Documents/datasets/brain tumour/brain_tumor_mri/new_dataset/bt_images/samples/beep.mp3')\n",
    "#playing DONE sound beeper \n",
    "playsound('/Users/anujpatel/Documents/datasets/brain tumour/brain_tumor_mri/new_dataset/bt_images/samples/done.mp3')\n",
    "      \n",
    "      "
   ]
  },
  {
   "cell_type": "markdown",
   "metadata": {},
   "source": [
    "## Ploting the graph "
   ]
  },
  {
   "cell_type": "markdown",
   "metadata": {},
   "source": [
    "This graph is providing the relation between the Fractal Dimesion and Binary Image Conversion Thresold"
   ]
  },
  {
   "cell_type": "code",
   "execution_count": 15,
   "metadata": {},
   "outputs": [
    {
     "data": {
      "image/png": "[encoded data removed]",
      "text/plain": [
       "<Figure size 432x288 with 1 Axes>"
      ]
     },
     "metadata": {
      "needs_background": "light"
     },
     "output_type": "display_data"
    }
   ],
   "source": [
    "from turtle import color\n",
    "i=1\n",
    "number_img=3\n",
    "y = [0]*number_img\n",
    "while i!=number_img:\n",
    "  y[i] = i\n",
    "  i+=1\n",
    "\n",
    "plt.title(\"Malignant Pro\")\n",
    "# 1\n",
    "plt.scatter(y, mean_array_maliearly, color=\"red\")\n",
    "# 2\n",
    "plt.scatter(y, median_array_maliearly, color=\"white\",alpha=0.1)\n",
    "# 3\n",
    "plt.plot(y, sd_array, color=\"white\",alpha=0.1)\n",
    "\n",
    "plt.show()"
   ]
  },
  {
   "cell_type": "markdown",
   "metadata": {},
   "source": [
    "## Benign\n"
   ]
  },
  {
   "cell_type": "code",
   "execution_count": 16,
   "metadata": {},
   "outputs": [
    {
     "name": "stderr",
     "output_type": "stream",
     "text": [
      "/var/folders/2f/m0xfb_6j03vcc8xdz8hp1d100000gn/T/ipykernel_17444/4115486480.py:14: DeprecationWarning: Starting with ImageIO v3 the behavior of this function will switch to that of iio.v3.imread. To keep the current behavior (and make this warning dissapear) use `import imageio.v2 as imageio` or call `imageio.v2.imread` directly.\n",
      "  img = imageio.imread(input_string)\n"
     ]
    },
    {
     "name": "stdout",
     "output_type": "stream",
     "text": [
      "1 th =>  0.6508994713891083   1.0588395218989146   0.5172428368041851\n",
      "2 th =>  0.637221977169522   0.9909154095307742   0.5013000318733356\n",
      "3 th =>  0.7022065582216013   1.0806856725324239   0.5604542098916397\n"
     ]
    }
   ],
   "source": [
    "i = 1\n",
    "mn_md_counter = 0\n",
    "number_img = 3\n",
    "epochs = 200\n",
    "\n",
    "# figure, axis = plt.subplots(number_img)\n",
    "\n",
    "# defining array containg median and means values of imgs\n",
    "mean_array_b = [0]*number_img\n",
    "sd_array_b=[0]*number_img\n",
    "median_array_b = [0]*number_img\n",
    "while i != number_img+1 : \n",
    "      input_string = \"/Users/anujpatel/Documents/datasets/brain tumour/brain_tumor_mri/new_dataset/bt_images/samples/bloodcancer/Benign/benign\"+str(i)+\".jpg\"\n",
    "      img = imageio.imread(input_string)\n",
    "      img = rgb2gray(img)\n",
    "\n",
    "      #counters and arrays\n",
    "      j=1\n",
    "      array = [0]*epochs\n",
    "      index = 0\n",
    "\n",
    "      for j in range(76,200) :\n",
    "        fd = fractal_dimension(img,j)\n",
    "        array[index]=fd\n",
    "        index = j\n",
    "\n",
    "\n",
    "\n",
    "      mean = np.mean(array)\n",
    "      median = np.median(array)\n",
    "      sd = np.std(array)\n",
    "      print(i,\"th => \",mean,\" \",median,\" \",sd)\n",
    "\n",
    "      # storing median and mean in PLOT_ARRAY\n",
    "      if mn_md_counter != number_img:\n",
    "        mean_array_b[mn_md_counter]=mean\n",
    "        median_array_b[mn_md_counter]=median\n",
    "        sd_array_b[mn_md_counter]=sd\n",
    "        mn_md_counter+=1\n",
    "      i+=1\n",
    "      #playing beep for counting\n",
    "      #playsound('/Users/anujpatel/Documents/datasets/brain tumour/brain_tumor_mri/new_dataset/bt_images/samples/beep.mp3')\n",
    "\n",
    "#playing DONE sound beeper \n",
    "playsound('/Users/anujpatel/Documents/datasets/brain tumour/brain_tumor_mri/new_dataset/bt_images/samples/done.mp3')\n",
    "      \n",
    "      "
   ]
  },
  {
   "cell_type": "code",
   "execution_count": 17,
   "metadata": {},
   "outputs": [
    {
     "data": {
      "image/png": "[encoded data removed]",
      "text/plain": [
       "<Figure size 432x288 with 1 Axes>"
      ]
     },
     "metadata": {
      "needs_background": "light"
     },
     "output_type": "display_data"
    }
   ],
   "source": [
    "i=1\n",
    "y = [0]*number_img\n",
    "while i!=number_img:\n",
    "  y[i] = i\n",
    "  i+=1\n",
    "\n",
    "plt.title(\"BEnign-Blood-Cancer-Red=MeanFD-Cyan=MedianFD\")\n",
    "# 2\n",
    "plt.plot(y, median_array_b, color=\"white\",alpha=0.1)\n",
    "# 1\n",
    "plt.scatter(y, mean_array_b, color=\"red\")\n",
    "# 3 \n",
    "plt.plot(y, sd_array_b, color=\"white\",alpha=0.1)\n",
    "\n",
    "plt.show()"
   ]
  },
  {
   "cell_type": "markdown",
   "metadata": {},
   "source": [
    "## malignant pre"
   ]
  },
  {
   "cell_type": "code",
   "execution_count": 12,
   "metadata": {},
   "outputs": [
    {
     "name": "stderr",
     "output_type": "stream",
     "text": [
      "/var/folders/2f/m0xfb_6j03vcc8xdz8hp1d100000gn/T/ipykernel_17444/3071607045.py:14: DeprecationWarning: Starting with ImageIO v3 the behavior of this function will switch to that of iio.v3.imread. To keep the current behavior (and make this warning dissapear) use `import imageio.v2 as imageio` or call `imageio.v2.imread` directly.\n",
      "  img = imageio.imread(input_string)\n"
     ]
    },
    {
     "name": "stdout",
     "output_type": "stream",
     "text": [
      "1 th =>  0.5834252160465536   0.779336439797884   0.4830743565095377\n",
      "2 th =>  0.6106136543086781   0.7759502622514964   0.5137862641551583\n",
      "3 th =>  0.6455484443182078   0.8925091021318698   0.5339805999477578\n"
     ]
    }
   ],
   "source": [
    "i = 1\n",
    "mn_md_counter = 0\n",
    "number_img = 3\n",
    "epochs = 200\n",
    "\n",
    "# figure, axis = plt.subplots(number_img)\n",
    "\n",
    "# defining array containg median and means values of imgs\n",
    "mean_array_p = [0]*number_img\n",
    "sd_array_p=[0]*number_img\n",
    "median_array_p = [0]*number_img\n",
    "while i != number_img+1 : \n",
    "      input_string = \"/Users/anujpatel/Documents/Fractals/samples/bloodcancer/MalignantPreB/malignant\"+str(i)+\".jpg\"\n",
    "      img = imageio.imread(input_string)\n",
    "      img = rgb2gray(img)\n",
    "\n",
    "      #counters and arrays\n",
    "      j=1\n",
    "      array = [0]*epochs\n",
    "      index = 0\n",
    "\n",
    "      for j in range(76,200) :\n",
    "        fd = fractal_dimension(img,j)\n",
    "        array[index]=fd\n",
    "        index = j\n",
    "\n",
    "\n",
    "\n",
    "      mean = np.mean(array)\n",
    "      median = np.median(array)\n",
    "      sd = np.std(array)\n",
    "      print(i,\"th => \",mean,\" \",median,\" \",sd)\n",
    "\n",
    "      # storing median and mean in PLOT_ARRAY\n",
    "      if mn_md_counter != number_img:\n",
    "        mean_array_p[mn_md_counter]=mean\n",
    "        median_array_p[mn_md_counter]=median\n",
    "        sd_array_p[mn_md_counter]=sd\n",
    "        mn_md_counter+=1\n",
    "      i+=1\n",
    "      #playing beep for counting\n",
    "      #playsound('/Users/anujpatel/Documents/datasets/brain tumour/brain_tumor_mri/new_dataset/bt_images/samples/beep.mp3')\n",
    "\n",
    "#playing DONE sound beeper \n",
    "playsound('/Users/anujpatel/Documents/datasets/brain tumour/brain_tumor_mri/new_dataset/bt_images/samples/done.mp3')\n",
    "      \n",
    "      "
   ]
  },
  {
   "cell_type": "markdown",
   "metadata": {},
   "source": [
    "## Benign vs Malignant "
   ]
  },
  {
   "cell_type": "code",
   "execution_count": 13,
   "metadata": {},
   "outputs": [
    {
     "data": {
      "image/png": "[encoded data removed]",
      "text/plain": [
       "<Figure size 432x288 with 1 Axes>"
      ]
     },
     "metadata": {
      "needs_background": "light"
     },
     "output_type": "display_data"
    }
   ],
   "source": [
    "i=1\n",
    "number_img1 = 3\n",
    "number_img2 = 3\n",
    "y1 = [0]*number_img1\n",
    "while i!=number_img1:\n",
    "  y1[i] = i\n",
    "  i+=1\n",
    "j=1\n",
    "y2 = [0]*number_img2\n",
    "while j!=number_img2:\n",
    "  y2[j] = j\n",
    "  j+=1\n",
    "\n",
    "plt.title(\"Benign VS Malignant Pro\")\n",
    "\n",
    "plt.scatter(y2, mean_array_b, color=\"red\",alpha=0.5)\n",
    "# 3 \n",
    "plt.scatter(y1, mean_array_maliearly, color=\"blue\",alpha=0.5)\n",
    "\n",
    "plt.show()"
   ]
  },
  {
   "cell_type": "code",
   "execution_count": 50,
   "metadata": {},
   "outputs": [
    {
     "name": "stdout",
     "output_type": "stream",
     "text": [
      "3 th =>  1.1015746146593162   1.1393270731417338   0.2878145418848518\n"
     ]
    }
   ],
   "source": [
    "\n",
    "\n",
    "j=1\n",
    "array = [0]*epochs\n",
    "index = 0\n",
    "epochs = 200\n",
    "img = cv2.imread(\"/Users/anujpatel/Documents/Fractals/samples/sin.png\")\n",
    "gry = rgb2gray(img)\n",
    "for j in range(10,200) :\n",
    "    fd = fractal_dimension(gry,j)\n",
    "    array[index]=fd\n",
    "    index = j\n",
    "\n",
    "\n",
    "mean = np.mean(array)\n",
    "median = np.median(array)\n",
    "sd = np.std(array)\n",
    "print(i,\"th => \",mean,\" \",median,\" \",sd)\n",
    "      "
   ]
  },
  {
   "cell_type": "code",
   "execution_count": 51,
   "metadata": {},
   "outputs": [
    {
     "name": "stdout",
     "output_type": "stream",
     "text": [
      "3 th =>  1.103016851973712   1.1401510407256836   0.2867299967849991\n"
     ]
    }
   ],
   "source": [
    "\n",
    "\n",
    "j=1\n",
    "array = [0]*epochs\n",
    "index = 0\n",
    "epochs = 200\n",
    "img = cv2.imread(\"/Users/anujpatel/Documents/Fractals/samples/cos.png\")\n",
    "gry = rgb2gray(img)\n",
    "for j in range(10,200) :\n",
    "    fd = fractal_dimension(gry,j)\n",
    "    array[index]=fd\n",
    "    index = j\n",
    "\n",
    "\n",
    "mean = np.mean(array)\n",
    "median = np.median(array)\n",
    "sd = np.std(array)\n",
    "print(i,\"th => \",mean,\" \",median,\" \",sd)\n",
    "      "
   ]
  },
  {
   "cell_type": "code",
   "execution_count": 52,
   "metadata": {},
   "outputs": [
    {
     "name": "stdout",
     "output_type": "stream",
     "text": [
      "3 th =>  1.1384377998210597   1.228475660380349   0.30322049194311296\n"
     ]
    }
   ],
   "source": [
    "\n",
    "\n",
    "j=1\n",
    "array = [0]*epochs\n",
    "index = 0\n",
    "epochs = 200\n",
    "img = cv2.imread(\"/Users/anujpatel/Documents/Fractals/samples/tan.png\")\n",
    "gry = rgb2gray(img)\n",
    "for j in range(10,200) :\n",
    "    fd = fractal_dimension(gry,j)\n",
    "    array[index]=fd\n",
    "    index = j\n",
    "\n",
    "\n",
    "mean = np.mean(array)\n",
    "median = np.median(array)\n",
    "sd = np.std(array)\n",
    "print(i,\"th => \",mean,\" \",median,\" \",sd)\n",
    "      "
   ]
  },
  {
   "cell_type": "code",
   "execution_count": 53,
   "metadata": {},
   "outputs": [
    {
     "name": "stdout",
     "output_type": "stream",
     "text": [
      "3 th =>  1.1421366604175436   1.2331458806696152   0.3028491608285519\n"
     ]
    }
   ],
   "source": [
    "\n",
    "\n",
    "j=1\n",
    "array = [0]*epochs\n",
    "index = 0\n",
    "epochs = 200\n",
    "img = cv2.imread(\"/Users/anujpatel/Documents/Fractals/samples/cot.png\")\n",
    "gry = rgb2gray(img)\n",
    "for j in range(10,200) :\n",
    "    fd = fractal_dimension(gry,j)\n",
    "    array[index]=fd\n",
    "    index = j\n",
    "\n",
    "\n",
    "mean = np.mean(array)\n",
    "median = np.median(array)\n",
    "sd = np.std(array)\n",
    "print(i,\"th => \",mean,\" \",median,\" \",sd)\n",
    "      "
   ]
  },
  {
   "cell_type": "code",
   "execution_count": 54,
   "metadata": {},
   "outputs": [
    {
     "name": "stdout",
     "output_type": "stream",
     "text": [
      "3 th =>  1.1301627383131454   1.1971112944446003   0.29718829650432\n"
     ]
    }
   ],
   "source": [
    "\n",
    "\n",
    "j=1\n",
    "array = [0]*epochs\n",
    "index = 0\n",
    "epochs = 200\n",
    "img = cv2.imread(\"/Users/anujpatel/Documents/Fractals/samples/sec.png\")\n",
    "gry = rgb2gray(img)\n",
    "for j in range(10,200) :\n",
    "    fd = fractal_dimension(gry,j)\n",
    "    array[index]=fd\n",
    "    index = j\n",
    "\n",
    "\n",
    "mean = np.mean(array)\n",
    "median = np.median(array)\n",
    "sd = np.std(array)\n",
    "print(i,\"th => \",mean,\" \",median,\" \",sd)\n",
    "      "
   ]
  },
  {
   "cell_type": "code",
   "execution_count": 55,
   "metadata": {},
   "outputs": [
    {
     "name": "stdout",
     "output_type": "stream",
     "text": [
      "3 th =>  1.1320081144200855   1.202663864379125   0.2974586715396363\n"
     ]
    }
   ],
   "source": [
    "\n",
    "\n",
    "j=1\n",
    "array = [0]*epochs\n",
    "index = 0\n",
    "epochs = 200\n",
    "img = cv2.imread(\"/Users/anujpatel/Documents/Fractals/samples/csc.png\")\n",
    "gry = rgb2gray(img)\n",
    "for j in range(10,200) :\n",
    "    fd = fractal_dimension(gry,j)\n",
    "    array[index]=fd\n",
    "    index = j\n",
    "\n",
    "\n",
    "mean = np.mean(array)\n",
    "median = np.median(array)\n",
    "sd = np.std(array)\n",
    "print(i,\"th => \",mean,\" \",median,\" \",sd)\n",
    "      "
   ]
  },
  {
   "cell_type": "markdown",
   "metadata": {},
   "source": [
    "\n",
    "y=mx+c changes wrt fd\n"
   ]
  },
  {
   "cell_type": "code",
   "execution_count": 57,
   "metadata": {},
   "outputs": [
    {
     "name": "stdout",
     "output_type": "stream",
     "text": [
      "3 th =>  1.103016851973712   1.1401510407256836   0.2867299967849991\n"
     ]
    }
   ],
   "source": [
    "\n",
    "\n",
    "j=1\n",
    "array = [0]*epochs\n",
    "index = 0\n",
    "epochs = 200\n",
    "img = cv2.imread(\"/Users/anujpatel/Documents/Fractals/samples/cos.png\")\n",
    "gry = rgb2gray(img)\n",
    "for j in range(10,200) :\n",
    "    fd = fractal_dimension(gry,j)\n",
    "    array[index]=fd\n",
    "    index = j\n",
    "\n",
    "\n",
    "mean = np.mean(array)\n",
    "median = np.median(array)\n",
    "sd = np.std(array)\n",
    "print(i,\"th => \",mean,\" \",median,\" \",sd)\n",
    "      "
   ]
  },
  {
   "cell_type": "code",
   "execution_count": 58,
   "metadata": {},
   "outputs": [
    {
     "name": "stdout",
     "output_type": "stream",
     "text": [
      "3 th =>  1.0990533504264053   1.1364486513990866   0.286973531086159\n"
     ]
    }
   ],
   "source": [
    "\n",
    "\n",
    "j=1\n",
    "array = [0]*epochs\n",
    "index = 0\n",
    "epochs = 200\n",
    "img = cv2.imread(\"/Users/anujpatel/Documents/Fractals/samples/cos2.png\")\n",
    "gry = rgb2gray(img)\n",
    "for j in range(10,200) :\n",
    "    fd = fractal_dimension(gry,j)\n",
    "    array[index]=fd\n",
    "    index = j\n",
    "\n",
    "\n",
    "mean = np.mean(array)\n",
    "median = np.median(array)\n",
    "sd = np.std(array)\n",
    "print(i,\"th => \",mean,\" \",median,\" \",sd)\n",
    "      "
   ]
  },
  {
   "cell_type": "code",
   "execution_count": 59,
   "metadata": {},
   "outputs": [
    {
     "name": "stdout",
     "output_type": "stream",
     "text": [
      "3 th =>  1.1081919624936818   1.1379775333512856   0.2912837776369793\n"
     ]
    }
   ],
   "source": [
    "\n",
    "\n",
    "j=1\n",
    "array = [0]*epochs\n",
    "index = 0\n",
    "epochs = 200\n",
    "img = cv2.imread(\"/Users/anujpatel/Documents/Fractals/samples/2cos.png\")\n",
    "gry = rgb2gray(img)\n",
    "for j in range(10,200) :\n",
    "    fd = fractal_dimension(gry,j)\n",
    "    array[index]=fd\n",
    "    index = j\n",
    "\n",
    "\n",
    "mean = np.mean(array)\n",
    "median = np.median(array)\n",
    "sd = np.std(array)\n",
    "print(i,\"th => \",mean,\" \",median,\" \",sd)\n",
    "      "
   ]
  },
  {
   "cell_type": "code",
   "execution_count": 60,
   "metadata": {},
   "outputs": [
    {
     "name": "stdout",
     "output_type": "stream",
     "text": [
      "3 th =>  1.1448583053558563   1.2355961812279543   0.3041670013269047\n"
     ]
    }
   ],
   "source": [
    "\n",
    "\n",
    "j=1\n",
    "array = [0]*epochs\n",
    "index = 0\n",
    "epochs = 200\n",
    "img = cv2.imread(\"/Users/anujpatel/Documents/Fractals/samples/4cos.png\")\n",
    "gry = rgb2gray(img)\n",
    "for j in range(10,200) :\n",
    "    fd = fractal_dimension(gry,j)\n",
    "    array[index]=fd\n",
    "    index = j\n",
    "\n",
    "\n",
    "mean = np.mean(array)\n",
    "median = np.median(array)\n",
    "sd = np.std(array)\n",
    "print(i,\"th => \",mean,\" \",median,\" \",sd)\n",
    "      "
   ]
  },
  {
   "cell_type": "code",
   "execution_count": 61,
   "metadata": {},
   "outputs": [
    {
     "name": "stdout",
     "output_type": "stream",
     "text": [
      "3 th =>  1.0884887322726944   1.1317208538933363   0.2851868549530319\n"
     ]
    }
   ],
   "source": [
    "\n",
    "\n",
    "j=1\n",
    "array = [0]*epochs\n",
    "index = 0\n",
    "epochs = 200\n",
    "img = cv2.imread(\"/Users/anujpatel/Documents/Fractals/samples/0.5cos.png\")\n",
    "gry = rgb2gray(img)\n",
    "for j in range(10,200) :\n",
    "    fd = fractal_dimension(gry,j)\n",
    "    array[index]=fd\n",
    "    index = j\n",
    "\n",
    "\n",
    "mean = np.mean(array)\n",
    "median = np.median(array)\n",
    "sd = np.std(array)\n",
    "print(i,\"th => \",mean,\" \",median,\" \",sd)\n",
    "      "
   ]
  },
  {
   "cell_type": "code",
   "execution_count": 62,
   "metadata": {},
   "outputs": [
    {
     "name": "stdout",
     "output_type": "stream",
     "text": [
      "3 th =>  1.0735167318257453   1.1042187425402203   0.278987438727288\n"
     ]
    }
   ],
   "source": [
    "\n",
    "\n",
    "j=1\n",
    "array = [0]*epochs\n",
    "index = 0\n",
    "epochs = 200\n",
    "img = cv2.imread(\"/Users/anujpatel/Documents/Fractals/samples/0.1cos.png\")\n",
    "gry = rgb2gray(img)\n",
    "for j in range(10,200) :\n",
    "    fd = fractal_dimension(gry,j)\n",
    "    array[index]=fd\n",
    "    index = j\n",
    "\n",
    "\n",
    "mean = np.mean(array)\n",
    "median = np.median(array)\n",
    "sd = np.std(array)\n",
    "print(i,\"th => \",mean,\" \",median,\" \",sd)\n",
    "      "
   ]
  },
  {
   "cell_type": "code",
   "execution_count": 63,
   "metadata": {},
   "outputs": [
    {
     "name": "stderr",
     "output_type": "stream",
     "text": [
      "objc[17444]: Class CaptureDelegate is implemented in both /Library/Frameworks/Python.framework/Versions/3.10/lib/python3.10/site-packages/cv2/cv2.abi3.so (0x141e52490) and /Library/Frameworks/Python.framework/Versions/3.10/lib/python3.10/site-packages/mediapipe/.dylibs/libopencv_videoio.3.4.16.dylib (0x132ac8860). One of the two will be used. Which one is undefined.\n",
      "objc[17444]: Class CVWindow is implemented in both /Library/Frameworks/Python.framework/Versions/3.10/lib/python3.10/site-packages/cv2/cv2.abi3.so (0x141e524e0) and /Library/Frameworks/Python.framework/Versions/3.10/lib/python3.10/site-packages/mediapipe/.dylibs/libopencv_highgui.3.4.16.dylib (0x127ff0a68). One of the two will be used. Which one is undefined.\n",
      "objc[17444]: Class CVView is implemented in both /Library/Frameworks/Python.framework/Versions/3.10/lib/python3.10/site-packages/cv2/cv2.abi3.so (0x141e52508) and /Library/Frameworks/Python.framework/Versions/3.10/lib/python3.10/site-packages/mediapipe/.dylibs/libopencv_highgui.3.4.16.dylib (0x127ff0a90). One of the two will be used. Which one is undefined.\n",
      "objc[17444]: Class CVSlider is implemented in both /Library/Frameworks/Python.framework/Versions/3.10/lib/python3.10/site-packages/cv2/cv2.abi3.so (0x141e52530) and /Library/Frameworks/Python.framework/Versions/3.10/lib/python3.10/site-packages/mediapipe/.dylibs/libopencv_highgui.3.4.16.dylib (0x127ff0ab8). One of the two will be used. Which one is undefined.\n",
      "INFO: Created TensorFlow Lite XNNPACK delegate for CPU.\n"
     ]
    },
    {
     "name": "stdout",
     "output_type": "stream",
     "text": [
      "outside 748.125\n",
      "outside 5.833333333333371\n",
      "outside 36.458333333333314\n",
      "outside 193.95833333333331\n",
      "outside 258.125\n",
      "outside 65.625\n",
      "outside 166.25\n",
      "outside 75.83333333333337\n",
      "outside 118.125\n",
      "outside 88.95833333333337\n",
      "outside 110.83333333333337\n",
      "outside 107.91666666666663\n",
      "outside 110.83333333333337\n",
      "outside 105.0\n",
      "outside 99.16666666666674\n",
      "outside 97.70833333333326\n",
      "outside 78.75\n",
      "outside 99.16666666666663\n",
      "outside 102.08333333333337\n",
      "outside 75.83333333333337\n",
      "outside 75.83333333333337\n",
      "outside 49.58333333333337\n",
      "outside 81.66666666666674\n",
      "outside 105.0\n",
      "outside 80.20833333333326\n",
      "outside 75.83333333333326\n",
      "outside 91.875\n",
      "outside 97.70833333333337\n",
      "outside 100.625\n",
      "outside 27.70833333333337\n",
      "outside 382.08333333333337\n",
      "outside 116.66666666666663\n",
      "outside 48.125\n",
      "outside 167.70833333333326\n",
      "outside 320.83333333333337\n",
      "outside 377.70833333333326\n",
      "outside 376.24999999999994\n",
      "outside 370.41666666666663\n",
      "outside 363.12499999999994\n",
      "outside 377.7083333333333\n",
      "outside 382.08333333333337\n",
      "outside 387.9166666666667\n",
      "outside 392.29166666666663\n",
      "outside 402.49999999999994\n",
      "outside 402.49999999999994\n",
      "outside 392.2916666666667\n",
      "outside 383.5416666666667\n",
      "outside 376.25\n",
      "outside 368.9583333333333\n",
      "outside 349.99999999999994\n",
      "outside 336.87499999999994\n",
      "outside 341.25\n",
      "outside 326.66666666666663\n",
      "outside 319.37499999999994\n",
      "outside 301.875\n",
      "outside 269.79166666666663\n",
      "outside 268.33333333333337\n",
      "outside 249.375\n",
      "outside 231.875\n",
      "outside 246.45833333333326\n",
      "outside 236.25\n",
      "outside 220.20833333333331\n",
      "outside 284.37499999999994\n",
      "outside 211.45833333333331\n",
      "outside 217.29166666666669\n",
      "outside 220.20833333333337\n",
      "outside 228.95833333333331\n",
      "outside 223.125\n",
      "outside 223.125\n",
      "outside 221.66666666666669\n",
      "outside 215.83333333333326\n",
      "outside 211.45833333333337\n",
      "outside 208.54166666666669\n",
      "outside 199.79166666666663\n",
      "outside 186.66666666666669\n",
      "outside 183.75\n",
      "outside 164.79166666666669\n",
      "outside 132.70833333333331\n",
      "outside 121.04166666666663\n",
      "outside 115.20833333333337\n",
      "outside 123.95833333333331\n",
      "outside 119.58333333333331\n",
      "outside 121.04166666666663\n",
      "outside 115.20833333333331\n",
      "outside 113.75\n",
      "outside 93.33333333333337\n",
      "outside 45.20833333333337\n",
      "outside 59.791666666666686\n",
      "outside 61.25\n",
      "outside 86.04166666666669\n",
      "outside 83.125\n",
      "outside 71.45833333333331\n",
      "outside 103.54166666666669\n",
      "outside 96.25\n",
      "outside 84.58333333333331\n",
      "outside 64.16666666666669\n",
      "outside 68.54166666666669\n",
      "outside 105.0\n",
      "outside 125.41666666666669\n",
      "outside 150.20833333333331\n",
      "outside 169.16666666666663\n",
      "outside 153.125\n",
      "outside 156.04166666666663\n",
      "outside 142.91666666666663\n",
      "outside 122.5\n",
      "outside 115.20833333333337\n",
      "outside 119.58333333333337\n",
      "outside 135.625\n",
      "outside 126.87499999999994\n",
      "outside 118.125\n",
      "outside 134.16666666666663\n",
      "outside 139.99999999999994\n",
      "outside 132.70833333333326\n",
      "outside 135.625\n",
      "outside 148.74999999999994\n",
      "outside 151.66666666666663\n",
      "outside 163.33333333333326\n",
      "outside 151.66666666666663\n",
      "outside 102.08333333333331\n",
      "outside 45.208333333333314\n",
      "outside 23.33333333333337\n",
      "outside 33.541666666666686\n",
      "outside 5.833333333333371\n",
      "outside 48.125\n",
      "outside 17.5\n",
      "outside 29.16666666666663\n",
      "outside 16.041666666666686\n",
      "outside 300.41666666666663\n",
      "outside 14.583333333333258\n",
      "outside 32.08333333333337\n",
      "outside 249.375\n",
      "outside 115.20833333333326\n",
      "outside 30.625\n",
      "outside 144.375\n",
      "outside 11.666666666666629\n",
      "outside 259.58333333333337\n",
      "outside 43.75\n",
      "outside 46.666666666666686\n",
      "outside 48.12499999999994\n",
      "outside 52.5\n",
      "outside 40.83333333333326\n",
      "outside 42.291666666666686\n",
      "outside 71.45833333333331\n",
      "outside 53.95833333333326\n",
      "outside 100.625\n",
      "outside 125.41666666666663\n",
      "outside 128.33333333333337\n",
      "outside 129.79166666666663\n",
      "outside 129.79166666666663\n",
      "outside 131.25\n",
      "outside 131.25\n",
      "outside 134.16666666666663\n",
      "outside 134.16666666666663\n",
      "outside 142.91666666666663\n",
      "outside 147.29166666666663\n",
      "outside 151.66666666666663\n",
      "outside 142.91666666666663\n",
      "outside 147.29166666666663\n",
      "outside 144.375\n",
      "outside 147.29166666666669\n",
      "outside 148.74999999999994\n",
      "outside 147.29166666666669\n",
      "outside 144.375\n",
      "outside 148.75\n",
      "outside 151.66666666666663\n",
      "outside 147.29166666666663\n",
      "outside 147.29166666666669\n",
      "outside 151.66666666666663\n",
      "outside 151.66666666666663\n",
      "outside 150.20833333333326\n",
      "outside 135.625\n",
      "outside 83.125\n",
      "outside 61.25\n",
      "outside 55.41666666666663\n",
      "outside 59.791666666666686\n",
      "outside 39.375\n",
      "outside 43.75\n",
      "outside 42.291666666666686\n",
      "outside 24.791666666666686\n",
      "outside 20.416666666666686\n",
      "outside 14.583333333333314\n",
      "outside 67.08333333333331\n",
      "outside 32.083333333333314\n",
      "outside 30.625\n",
      "outside 27.70833333333337\n",
      "outside 20.41666666666663\n",
      "outside 29.166666666666686\n",
      "outside 37.91666666666663\n",
      "outside 40.833333333333314\n",
      "outside 17.5\n",
      "outside 65.625\n",
      "outside 27.708333333333314\n",
      "outside 17.5\n",
      "outside 75.83333333333337\n",
      "outside 55.41666666666663\n",
      "outside 43.75\n",
      "outside 32.083333333333314\n",
      "outside 17.5\n",
      "outside 186.66666666666663\n",
      "outside 192.5\n",
      "outside 170.62499999999994\n",
      "outside 188.125\n",
      "outside 163.33333333333337\n",
      "outside 161.875\n",
      "outside 164.79166666666663\n",
      "outside 167.70833333333331\n",
      "outside 167.70833333333326\n",
      "outside 169.16666666666663\n",
      "outside 175.0\n",
      "outside 175.0\n",
      "outside 177.91666666666663\n",
      "outside 176.45833333333337\n",
      "outside 176.45833333333337\n",
      "outside 177.91666666666669\n",
      "outside 176.45833333333331\n",
      "outside 176.45833333333331\n",
      "outside 177.91666666666669\n",
      "outside 176.45833333333331\n",
      "outside 175.0\n",
      "outside 176.45833333333331\n",
      "outside 176.45833333333326\n",
      "outside 176.45833333333337\n",
      "outside 175.0\n",
      "outside 167.70833333333326\n",
      "outside 157.5\n",
      "outside 144.375\n",
      "outside 134.16666666666663\n",
      "outside 106.45833333333337\n",
      "outside 129.79166666666669\n",
      "outside 150.20833333333331\n",
      "outside 160.41666666666669\n",
      "outside 169.16666666666663\n",
      "outside 172.08333333333331\n",
      "outside 176.45833333333331\n",
      "outside 176.45833333333334\n",
      "outside 180.83333333333331\n",
      "outside 188.125\n",
      "outside 201.25\n",
      "outside 198.33333333333334\n",
      "outside 198.33333333333331\n",
      "outside 199.79166666666669\n",
      "outside 201.25\n",
      "outside 189.58333333333334\n",
      "outside 167.70833333333334\n",
      "outside 142.91666666666666\n",
      "outside 131.25\n",
      "outside 125.41666666666663\n",
      "outside 115.20833333333337\n",
      "outside 106.45833333333337\n",
      "outside 103.54166666666669\n",
      "outside 102.08333333333331\n",
      "outside 102.08333333333331\n",
      "outside 99.16666666666669\n",
      "outside 106.45833333333331\n",
      "outside 100.625\n",
      "outside 90.41666666666663\n",
      "outside 91.875\n",
      "outside 93.33333333333337\n",
      "outside 97.70833333333337\n",
      "outside 74.375\n",
      "outside 70.0\n",
      "outside 67.08333333333337\n",
      "outside 71.45833333333331\n",
      "outside 88.95833333333337\n",
      "outside 94.79166666666663\n",
      "outside 94.79166666666663\n",
      "outside 91.875\n",
      "outside 90.41666666666663\n",
      "outside 91.875\n",
      "outside 87.5\n",
      "outside 84.58333333333337\n",
      "outside 86.04166666666663\n",
      "outside 83.125\n",
      "outside 86.04166666666669\n",
      "outside 87.5\n",
      "outside 87.5\n",
      "outside 75.83333333333337\n",
      "outside 80.20833333333331\n",
      "outside 93.33333333333331\n",
      "outside 87.5\n",
      "outside 90.41666666666669\n",
      "outside 96.25\n",
      "outside 103.54166666666669\n",
      "outside 81.66666666666663\n",
      "outside 80.20833333333337\n",
      "outside 87.5\n",
      "outside 87.5\n",
      "outside 84.58333333333337\n",
      "outside 78.75\n",
      "outside 83.125\n",
      "outside 77.29166666666663\n",
      "outside 77.29166666666663\n",
      "outside 78.75\n",
      "outside 77.29166666666669\n",
      "outside 80.20833333333337\n",
      "outside 86.04166666666669\n",
      "outside 64.16666666666669\n",
      "outside 74.375\n",
      "outside 75.83333333333331\n",
      "outside 68.54166666666669\n",
      "outside 77.29166666666669\n",
      "outside 80.20833333333331\n",
      "outside 71.45833333333337\n",
      "outside 70.0\n",
      "outside 64.16666666666669\n",
      "outside 67.08333333333331\n",
      "outside 62.708333333333314\n",
      "outside 62.70833333333337\n",
      "outside 65.625\n",
      "outside 68.54166666666669\n",
      "outside 67.08333333333331\n",
      "outside 53.958333333333314\n",
      "outside 67.08333333333331\n",
      "outside 75.83333333333337\n",
      "outside 59.791666666666686\n",
      "outside 67.08333333333331\n",
      "outside 72.91666666666669\n",
      "outside 77.29166666666669\n",
      "outside 74.375\n",
      "outside 77.29166666666669\n",
      "outside 72.91666666666663\n",
      "outside 75.83333333333331\n",
      "outside 30.625\n",
      "outside 87.5\n",
      "outside 27.708333333333314\n",
      "outside 62.70833333333337\n",
      "outside 39.37499999999997\n",
      "outside 62.70833333333334\n",
      "outside 48.125\n",
      "outside 16.041666666666657\n",
      "outside 30.625\n",
      "outside 110.83333333333333\n",
      "outside 36.45833333333334\n",
      "outside 17.5\n",
      "outside 125.41666666666666\n",
      "outside 97.70833333333334\n",
      "outside 183.75\n",
      "outside 100.625\n",
      "outside 115.20833333333326\n",
      "outside 53.95833333333337\n",
      "outside 10.208333333333258\n",
      "outside 245.0\n",
      "outside 27.70833333333337\n",
      "outside 4.375\n",
      "outside 24.79166666666663\n",
      "outside 26.25\n",
      "outside 29.16666666666663\n",
      "outside 23.33333333333337\n",
      "outside 26.25\n",
      "outside 23.333333333333314\n",
      "outside 30.625\n",
      "outside 24.79166666666663\n",
      "outside 18.958333333333314\n",
      "outside 2.9166666666666288\n",
      "outside 29.166666666666686\n",
      "outside 86.04166666666663\n",
      "outside 32.083333333333314\n",
      "outside 26.25\n",
      "outside 30.625\n",
      "outside 32.083333333333314\n",
      "outside 29.166666666666686\n",
      "outside 29.16666666666663\n",
      "outside 40.833333333333314\n",
      "outside 30.625\n",
      "outside 29.16666666666663\n",
      "outside 29.166666666666686\n",
      "outside 32.083333333333314\n",
      "outside 32.083333333333314\n",
      "outside 33.541666666666686\n",
      "outside 37.916666666666686\n",
      "outside 45.208333333333314\n",
      "outside 58.333333333333314\n",
      "outside 45.20833333333326\n",
      "outside 65.625\n",
      "outside 18.95833333333337\n",
      "outside 5.833333333333314\n",
      "outside 48.125\n",
      "outside 78.75\n",
      "outside 115.20833333333331\n",
      "outside 129.79166666666663\n",
      "outside 81.66666666666669\n",
      "outside 81.66666666666663\n",
      "outside 69.99999999999994\n",
      "outside 58.33333333333326\n",
      "outside 35.0\n",
      "outside 33.541666666666686\n",
      "outside 77.29166666666663\n",
      "outside 56.875\n",
      "outside 84.58333333333337\n",
      "outside 77.29166666666674\n",
      "outside 51.04166666666663\n",
      "outside 107.91666666666663\n",
      "outside 129.79166666666663\n",
      "outside 110.83333333333337\n"
     ]
    },
    {
     "ename": "KeyboardInterrupt",
     "evalue": "",
     "output_type": "error",
     "traceback": [
      "\u001b[0;31m---------------------------------------------------------------------------\u001b[0m",
      "\u001b[0;31mKeyboardInterrupt\u001b[0m                         Traceback (most recent call last)",
      "\u001b[1;32m/Users/anujpatel/Documents/Fractals/samples/codeTry.ipynb Cell 35\u001b[0m in \u001b[0;36m<cell line: 9>\u001b[0;34m()\u001b[0m\n\u001b[1;32m     <a href='vscode-notebook-cell:/Users/anujpatel/Documents/Fractals/samples/codeTry.ipynb#X55sZmlsZQ%3D%3D?line=11'>12</a>\u001b[0m frame_height, frame_width, _ \u001b[39m=\u001b[39m frame\u001b[39m.\u001b[39mshape\n\u001b[1;32m     <a href='vscode-notebook-cell:/Users/anujpatel/Documents/Fractals/samples/codeTry.ipynb#X55sZmlsZQ%3D%3D?line=12'>13</a>\u001b[0m rgb_frame \u001b[39m=\u001b[39m cv2\u001b[39m.\u001b[39mcvtColor(frame, cv2\u001b[39m.\u001b[39mCOLOR_BGR2RGB)\n\u001b[0;32m---> <a href='vscode-notebook-cell:/Users/anujpatel/Documents/Fractals/samples/codeTry.ipynb#X55sZmlsZQ%3D%3D?line=13'>14</a>\u001b[0m output \u001b[39m=\u001b[39m hand_detector\u001b[39m.\u001b[39;49mprocess(rgb_frame)\n\u001b[1;32m     <a href='vscode-notebook-cell:/Users/anujpatel/Documents/Fractals/samples/codeTry.ipynb#X55sZmlsZQ%3D%3D?line=14'>15</a>\u001b[0m hands \u001b[39m=\u001b[39m output\u001b[39m.\u001b[39mmulti_hand_landmarks\n\u001b[1;32m     <a href='vscode-notebook-cell:/Users/anujpatel/Documents/Fractals/samples/codeTry.ipynb#X55sZmlsZQ%3D%3D?line=15'>16</a>\u001b[0m \u001b[39mif\u001b[39;00m hands:\n",
      "File \u001b[0;32m/Library/Frameworks/Python.framework/Versions/3.10/lib/python3.10/site-packages/mediapipe/python/solutions/hands.py:153\u001b[0m, in \u001b[0;36mHands.process\u001b[0;34m(self, image)\u001b[0m\n\u001b[1;32m    132\u001b[0m \u001b[39mdef\u001b[39;00m \u001b[39mprocess\u001b[39m(\u001b[39mself\u001b[39m, image: np\u001b[39m.\u001b[39mndarray) \u001b[39m-\u001b[39m\u001b[39m>\u001b[39m NamedTuple:\n\u001b[1;32m    133\u001b[0m   \u001b[39m\"\"\"Processes an RGB image and returns the hand landmarks and handedness of each detected hand.\u001b[39;00m\n\u001b[1;32m    134\u001b[0m \n\u001b[1;32m    135\u001b[0m \u001b[39m  Args:\u001b[39;00m\n\u001b[0;32m   (...)\u001b[0m\n\u001b[1;32m    150\u001b[0m \u001b[39m         right hand) of the detected hand.\u001b[39;00m\n\u001b[1;32m    151\u001b[0m \u001b[39m  \"\"\"\u001b[39;00m\n\u001b[0;32m--> 153\u001b[0m   \u001b[39mreturn\u001b[39;00m \u001b[39msuper\u001b[39;49m()\u001b[39m.\u001b[39;49mprocess(input_data\u001b[39m=\u001b[39;49m{\u001b[39m'\u001b[39;49m\u001b[39mimage\u001b[39;49m\u001b[39m'\u001b[39;49m: image})\n",
      "File \u001b[0;32m/Library/Frameworks/Python.framework/Versions/3.10/lib/python3.10/site-packages/mediapipe/python/solution_base.py:364\u001b[0m, in \u001b[0;36mSolutionBase.process\u001b[0;34m(self, input_data)\u001b[0m\n\u001b[1;32m    358\u001b[0m   \u001b[39melse\u001b[39;00m:\n\u001b[1;32m    359\u001b[0m     \u001b[39mself\u001b[39m\u001b[39m.\u001b[39m_graph\u001b[39m.\u001b[39madd_packet_to_input_stream(\n\u001b[1;32m    360\u001b[0m         stream\u001b[39m=\u001b[39mstream_name,\n\u001b[1;32m    361\u001b[0m         packet\u001b[39m=\u001b[39m\u001b[39mself\u001b[39m\u001b[39m.\u001b[39m_make_packet(input_stream_type,\n\u001b[1;32m    362\u001b[0m                                  data)\u001b[39m.\u001b[39mat(\u001b[39mself\u001b[39m\u001b[39m.\u001b[39m_simulated_timestamp))\n\u001b[0;32m--> 364\u001b[0m \u001b[39mself\u001b[39;49m\u001b[39m.\u001b[39;49m_graph\u001b[39m.\u001b[39;49mwait_until_idle()\n\u001b[1;32m    365\u001b[0m \u001b[39m# Create a NamedTuple object where the field names are mapping to the graph\u001b[39;00m\n\u001b[1;32m    366\u001b[0m \u001b[39m# output stream names.\u001b[39;00m\n\u001b[1;32m    367\u001b[0m solution_outputs \u001b[39m=\u001b[39m collections\u001b[39m.\u001b[39mnamedtuple(\n\u001b[1;32m    368\u001b[0m     \u001b[39m'\u001b[39m\u001b[39mSolutionOutputs\u001b[39m\u001b[39m'\u001b[39m, \u001b[39mself\u001b[39m\u001b[39m.\u001b[39m_output_stream_type_info\u001b[39m.\u001b[39mkeys())\n",
      "\u001b[0;31mKeyboardInterrupt\u001b[0m: "
     ]
    },
    {
     "ename": "",
     "evalue": "",
     "output_type": "error",
     "traceback": [
      "\u001b[1;31mThe Kernel crashed while executing code in the the current cell or a previous cell. Please review the code in the cell(s) to identify a possible cause of the failure. Click <a href='https://aka.ms/vscodeJupyterKernelCrash'>here</a> for more info. View Jupyter <a href='command:jupyter.viewOutput'>log</a> for further details."
     ]
    }
   ],
   "source": [
    "import cv2\n",
    "import mediapipe as mp\n",
    "import pyautogui\n",
    "cap = cv2.VideoCapture(0)\n",
    "hand_detector = mp.solutions.hands.Hands()\n",
    "drawing_utils = mp.solutions.drawing_utils\n",
    "screen_width, screen_height = pyautogui.size()\n",
    "index_y = 0\n",
    "while True:\n",
    "    _, frame = cap.read()\n",
    "    frame = cv2.flip(frame, 1)\n",
    "    frame_height, frame_width, _ = frame.shape\n",
    "    rgb_frame = cv2.cvtColor(frame, cv2.COLOR_BGR2RGB)\n",
    "    output = hand_detector.process(rgb_frame)\n",
    "    hands = output.multi_hand_landmarks\n",
    "    if hands:\n",
    "        for hand in hands:\n",
    "            drawing_utils.draw_landmarks(frame, hand)\n",
    "            landmarks = hand.landmark\n",
    "            for id, landmark in enumerate(landmarks):\n",
    "                x = int(landmark.x*frame_width)\n",
    "                y = int(landmark.y*frame_height)\n",
    "                if id == 8:\n",
    "                    cv2.circle(img=frame, center=(x,y), radius=10, color=(0, 255, 255))\n",
    "                    index_x = screen_width/frame_width*x\n",
    "                    index_y = screen_height/frame_height*y\n",
    "\n",
    "                if id == 4:\n",
    "                    cv2.circle(img=frame, center=(x,y), radius=10, color=(0, 255, 255))\n",
    "                    thumb_x = screen_width/frame_width*x\n",
    "                    thumb_y = screen_height/frame_height*y\n",
    "                    print('outside', abs(index_y - thumb_y))\n",
    "                    if abs(index_y - thumb_y) < 20:\n",
    "                        pyautogui.click()\n",
    "                        pyautogui.sleep(1)\n",
    "                    elif abs(index_y - thumb_y) < 100:\n",
    "                        pyautogui.moveTo(index_x, index_y)\n",
    "    cv2.imshow('Virtual Mouse', frame)\n",
    "    cv2.waitKey(1)"
   ]
  },
  {
   "cell_type": "code",
   "execution_count": null,
   "metadata": {},
   "outputs": [],
   "source": []
  }
 ],
 "metadata": {
  "kernelspec": {
   "display_name": "Python 3.10.4 64-bit",
   "language": "python",
   "name": "python3"
  },
  "language_info": {
   "codemirror_mode": {
    "name": "ipython",
    "version": 3
   },
   "file_extension": ".py",
   "mimetype": "text/x-python",
   "name": "python",
   "nbconvert_exporter": "python",
   "pygments_lexer": "ipython3",
   "version": "3.10.4"
  },
  "orig_nbformat": 4,
  "vscode": {
   "interpreter": {
    "hash": "aee8b7b246df8f9039afb4144a1f6fd8d2ca17a180786b69acc140d282b71a49"
   }
  }
 },
 "nbformat": 4,
 "nbformat_minor": 2
}
